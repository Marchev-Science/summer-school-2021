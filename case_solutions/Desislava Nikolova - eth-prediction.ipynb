{
 "cells": [
  {
   "cell_type": "markdown",
   "metadata": {},
   "source": [
    "Case 1: The A.I. crypto trader - Make a prediction model of the major cryptocurrencies’ prices and an autonomous A.I. decision-maker for trading/investing\n",
    "Data from: https://www.kaggle.com/bizzyvinci/coinmarketcap-historical-data\n",
    "\n",
    "Authors:\n",
    "\n",
    "Desislava Nikolova\n",
    "\n",
    "Marin Stoyanov"
   ]
  },
  {
   "cell_type": "markdown",
   "metadata": {},
   "source": [
    "In order to simplify the task on hand, we decided to look at only one cryptocurrency. We chose Ethereum as a famous coin and at the same time it is not the most common one. In coins.csv file, the abbreviation of the coins is in the column \"symbol\". We use this column to find \"ETH\" and specifically its \"id\". The \"id\" corresponds to the \"coin_id\" in the file historical.csv."
   ]
  },
  {
   "cell_type": "code",
   "execution_count": 4,
   "metadata": {
    "execution": {
     "iopub.execute_input": "2021-07-11T10:16:00.206006Z",
     "iopub.status.busy": "2021-07-11T10:16:00.205612Z",
     "iopub.status.idle": "2021-07-11T10:16:00.502925Z",
     "shell.execute_reply": "2021-07-11T10:16:00.501796Z",
     "shell.execute_reply.started": "2021-07-11T10:16:00.205961Z"
    }
   },
   "outputs": [
    {
     "name": "stdout",
     "output_type": "stream",
     "text": [
      "['1027', 'Ethereum', 'ethereum', 'ETH']\n",
      "1027\n"
     ]
    }
   ],
   "source": [
    "# Take only the ETH data\n",
    "import csv\n",
    "with open(\"../input/coinmarketcap-historical-data/coins.csv\", 'r') as f:\n",
    "    reader = csv.reader(f, delimiter=\",\")\n",
    "    for i, line in enumerate(reader):\n",
    "        if line[3] == 'ETH':\n",
    "            print(line[:4])\n",
    "            coin_number = line[0]\n",
    "            print(coin_number)"
   ]
  },
  {
   "cell_type": "markdown",
   "metadata": {},
   "source": [
    "Ethereum corresponds to id = 1027. \n",
    "\n",
    "The next step is to create a new file \"ETH.csv\", which has only the Etherium data from the historical.csv file."
   ]
  },
  {
   "cell_type": "code",
   "execution_count": 5,
   "metadata": {
    "execution": {
     "iopub.execute_input": "2021-07-11T10:16:00.504661Z",
     "iopub.status.busy": "2021-07-11T10:16:00.504368Z",
     "iopub.status.idle": "2021-07-11T10:16:20.991110Z",
     "shell.execute_reply": "2021-07-11T10:16:20.990120Z",
     "shell.execute_reply.started": "2021-07-11T10:16:00.504632Z"
    }
   },
   "outputs": [],
   "source": [
    "# Create new file with only the ETH data.\n",
    "list_of_column_names = []\n",
    "with open(\"../input/coinmarketcap-historical-data/historical.csv\", 'r') as f:\n",
    "    reader = csv.reader(f, delimiter=\",\")\n",
    "    with open('./ETH.csv', 'w', encoding='UTF8') as file:\n",
    "        writer = csv.writer(file)\n",
    "        for row in reader:\n",
    "            list_of_column_names.append(row)\n",
    "            break\n",
    "        writer.writerow(list_of_column_names[0])\n",
    "        for i, line in enumerate(reader):\n",
    "            if line[1] == coin_number:\n",
    "                writer.writerow(line)"
   ]
  },
  {
   "cell_type": "markdown",
   "metadata": {},
   "source": [
    "After having the cleared data for the ETH, we start importing the libraries needed for the prediction model.\n",
    "\n",
    "We use SARIMAX(Seasonal Auto-Regressive Integrated Moving Average with eXogenous factors) in order to make a prediction for the future price."
   ]
  },
  {
   "cell_type": "code",
   "execution_count": 6,
   "metadata": {
    "ExecuteTime": {
     "end_time": "2021-07-08T11:39:35.236027Z",
     "start_time": "2021-07-08T11:39:33.532832Z"
    },
    "execution": {
     "iopub.execute_input": "2021-07-11T10:16:20.992911Z",
     "iopub.status.busy": "2021-07-11T10:16:20.992635Z",
     "iopub.status.idle": "2021-07-11T10:16:20.998950Z",
     "shell.execute_reply": "2021-07-11T10:16:20.997943Z",
     "shell.execute_reply.started": "2021-07-11T10:16:20.992884Z"
    }
   },
   "outputs": [],
   "source": [
    "import pandas as pd\n",
    "import numpy as np\n",
    "\n",
    "import matplotlib.pyplot as plt\n",
    "\n",
    "# Import the SARIMAX from statsmodels\n",
    "from statsmodels.tsa.statespace.sarimax import SARIMAX\n",
    "\n",
    "# Import augmented dicky-fuller test function\n",
    "from statsmodels.tsa.stattools import adfuller\n"
   ]
  },
  {
   "cell_type": "markdown",
   "metadata": {},
   "source": [
    "We use the results from ETH.csv as data."
   ]
  },
  {
   "cell_type": "code",
   "execution_count": 7,
   "metadata": {
    "ExecuteTime": {
     "end_time": "2021-07-08T11:39:37.751735Z",
     "start_time": "2021-07-08T11:39:37.658012Z"
    },
    "execution": {
     "iopub.execute_input": "2021-07-11T10:16:21.000808Z",
     "iopub.status.busy": "2021-07-11T10:16:21.000513Z",
     "iopub.status.idle": "2021-07-11T10:16:21.106242Z",
     "shell.execute_reply": "2021-07-11T10:16:21.104953Z",
     "shell.execute_reply.started": "2021-07-11T10:16:21.000778Z"
    }
   },
   "outputs": [
    {
     "data": {
      "text/html": [
       "<div>\n",
       "<style scoped>\n",
       "    .dataframe tbody tr th:only-of-type {\n",
       "        vertical-align: middle;\n",
       "    }\n",
       "\n",
       "    .dataframe tbody tr th {\n",
       "        vertical-align: top;\n",
       "    }\n",
       "\n",
       "    .dataframe thead th {\n",
       "        text-align: right;\n",
       "    }\n",
       "</style>\n",
       "<table border=\"1\" class=\"dataframe\">\n",
       "  <thead>\n",
       "    <tr style=\"text-align: right;\">\n",
       "      <th></th>\n",
       "      <th>date</th>\n",
       "      <th>coin_id</th>\n",
       "      <th>cmc_rank</th>\n",
       "      <th>market_cap</th>\n",
       "      <th>price</th>\n",
       "      <th>open</th>\n",
       "      <th>high</th>\n",
       "      <th>low</th>\n",
       "      <th>close</th>\n",
       "      <th>time_high</th>\n",
       "      <th>time_low</th>\n",
       "      <th>volume_24h</th>\n",
       "      <th>percent_change_1h</th>\n",
       "      <th>percent_change_24h</th>\n",
       "      <th>percent_change_7d</th>\n",
       "      <th>circulating_supply</th>\n",
       "      <th>total_supply</th>\n",
       "      <th>max_supply</th>\n",
       "      <th>num_market_pairs</th>\n",
       "    </tr>\n",
       "  </thead>\n",
       "  <tbody>\n",
       "    <tr>\n",
       "      <th>0</th>\n",
       "      <td>2015-08-07</td>\n",
       "      <td>1027</td>\n",
       "      <td>4</td>\n",
       "      <td>1.666106e+08</td>\n",
       "      <td>2.772121</td>\n",
       "      <td>NaN</td>\n",
       "      <td>NaN</td>\n",
       "      <td>NaN</td>\n",
       "      <td>NaN</td>\n",
       "      <td>NaN</td>\n",
       "      <td>NaN</td>\n",
       "      <td>1.643292e+05</td>\n",
       "      <td>3.438040</td>\n",
       "      <td>NaN</td>\n",
       "      <td>NaN</td>\n",
       "      <td>6.010222e+07</td>\n",
       "      <td>7.200245e+07</td>\n",
       "      <td>NaN</td>\n",
       "      <td>NaN</td>\n",
       "    </tr>\n",
       "    <tr>\n",
       "      <th>1</th>\n",
       "      <td>2015-08-08</td>\n",
       "      <td>1027</td>\n",
       "      <td>4</td>\n",
       "      <td>4.548690e+07</td>\n",
       "      <td>0.753325</td>\n",
       "      <td>NaN</td>\n",
       "      <td>NaN</td>\n",
       "      <td>NaN</td>\n",
       "      <td>NaN</td>\n",
       "      <td>NaN</td>\n",
       "      <td>NaN</td>\n",
       "      <td>6.741877e+05</td>\n",
       "      <td>-9.849120</td>\n",
       "      <td>-72.73750</td>\n",
       "      <td>NaN</td>\n",
       "      <td>6.038150e+07</td>\n",
       "      <td>7.228298e+07</td>\n",
       "      <td>NaN</td>\n",
       "      <td>NaN</td>\n",
       "    </tr>\n",
       "    <tr>\n",
       "      <th>2</th>\n",
       "      <td>2015-08-09</td>\n",
       "      <td>1027</td>\n",
       "      <td>4</td>\n",
       "      <td>4.239955e+07</td>\n",
       "      <td>0.701897</td>\n",
       "      <td>NaN</td>\n",
       "      <td>NaN</td>\n",
       "      <td>NaN</td>\n",
       "      <td>NaN</td>\n",
       "      <td>NaN</td>\n",
       "      <td>NaN</td>\n",
       "      <td>5.321703e+05</td>\n",
       "      <td>-10.081600</td>\n",
       "      <td>-8.03495</td>\n",
       "      <td>NaN</td>\n",
       "      <td>6.040712e+07</td>\n",
       "      <td>7.230860e+07</td>\n",
       "      <td>NaN</td>\n",
       "      <td>NaN</td>\n",
       "    </tr>\n",
       "    <tr>\n",
       "      <th>3</th>\n",
       "      <td>2015-08-10</td>\n",
       "      <td>1027</td>\n",
       "      <td>4</td>\n",
       "      <td>4.281836e+07</td>\n",
       "      <td>0.708448</td>\n",
       "      <td>NaN</td>\n",
       "      <td>NaN</td>\n",
       "      <td>NaN</td>\n",
       "      <td>NaN</td>\n",
       "      <td>NaN</td>\n",
       "      <td>NaN</td>\n",
       "      <td>4.052831e+05</td>\n",
       "      <td>4.286270</td>\n",
       "      <td>-2.29319</td>\n",
       "      <td>NaN</td>\n",
       "      <td>6.043967e+07</td>\n",
       "      <td>7.234116e+07</td>\n",
       "      <td>NaN</td>\n",
       "      <td>NaN</td>\n",
       "    </tr>\n",
       "    <tr>\n",
       "      <th>4</th>\n",
       "      <td>2015-08-11</td>\n",
       "      <td>1027</td>\n",
       "      <td>4</td>\n",
       "      <td>6.456925e+07</td>\n",
       "      <td>1.067859</td>\n",
       "      <td>NaN</td>\n",
       "      <td>NaN</td>\n",
       "      <td>NaN</td>\n",
       "      <td>NaN</td>\n",
       "      <td>NaN</td>\n",
       "      <td>NaN</td>\n",
       "      <td>1.463103e+06</td>\n",
       "      <td>0.025007</td>\n",
       "      <td>52.88000</td>\n",
       "      <td>NaN</td>\n",
       "      <td>6.046606e+07</td>\n",
       "      <td>7.236755e+07</td>\n",
       "      <td>NaN</td>\n",
       "      <td>NaN</td>\n",
       "    </tr>\n",
       "  </tbody>\n",
       "</table>\n",
       "</div>"
      ],
      "text/plain": [
       "         date  coin_id  cmc_rank    market_cap     price  open  high  low  \\\n",
       "0  2015-08-07     1027         4  1.666106e+08  2.772121   NaN   NaN  NaN   \n",
       "1  2015-08-08     1027         4  4.548690e+07  0.753325   NaN   NaN  NaN   \n",
       "2  2015-08-09     1027         4  4.239955e+07  0.701897   NaN   NaN  NaN   \n",
       "3  2015-08-10     1027         4  4.281836e+07  0.708448   NaN   NaN  NaN   \n",
       "4  2015-08-11     1027         4  6.456925e+07  1.067859   NaN   NaN  NaN   \n",
       "\n",
       "   close  time_high  time_low    volume_24h  percent_change_1h  \\\n",
       "0    NaN        NaN       NaN  1.643292e+05           3.438040   \n",
       "1    NaN        NaN       NaN  6.741877e+05          -9.849120   \n",
       "2    NaN        NaN       NaN  5.321703e+05         -10.081600   \n",
       "3    NaN        NaN       NaN  4.052831e+05           4.286270   \n",
       "4    NaN        NaN       NaN  1.463103e+06           0.025007   \n",
       "\n",
       "   percent_change_24h  percent_change_7d  circulating_supply  total_supply  \\\n",
       "0                 NaN                NaN        6.010222e+07  7.200245e+07   \n",
       "1           -72.73750                NaN        6.038150e+07  7.228298e+07   \n",
       "2            -8.03495                NaN        6.040712e+07  7.230860e+07   \n",
       "3            -2.29319                NaN        6.043967e+07  7.234116e+07   \n",
       "4            52.88000                NaN        6.046606e+07  7.236755e+07   \n",
       "\n",
       "   max_supply  num_market_pairs  \n",
       "0         NaN               NaN  \n",
       "1         NaN               NaN  \n",
       "2         NaN               NaN  \n",
       "3         NaN               NaN  \n",
       "4         NaN               NaN  "
      ]
     },
     "execution_count": 7,
     "metadata": {},
     "output_type": "execute_result"
    }
   ],
   "source": [
    "data = pd.read_csv('../input/ethcsv/ETH.csv')\n",
    "data.head()"
   ]
  },
  {
   "cell_type": "code",
   "execution_count": 8,
   "metadata": {
    "ExecuteTime": {
     "end_time": "2021-07-08T11:39:40.361491Z",
     "start_time": "2021-07-08T11:39:40.236529Z"
    },
    "execution": {
     "iopub.execute_input": "2021-07-11T10:16:21.108011Z",
     "iopub.status.busy": "2021-07-11T10:16:21.107610Z",
     "iopub.status.idle": "2021-07-11T10:16:21.251091Z",
     "shell.execute_reply": "2021-07-11T10:16:21.249789Z",
     "shell.execute_reply.started": "2021-07-11T10:16:21.107963Z"
    }
   },
   "outputs": [
    {
     "name": "stdout",
     "output_type": "stream",
     "text": [
      "2.8015989295860892\n",
      "1.0\n",
      "{'1%': -3.433511479373804, '5%': -2.8629365976621943, '10%': -2.5675134844759}\n",
      "ADF Statistic: 2.8015989295860892\n",
      "p-value: 1.0\n"
     ]
    }
   ],
   "source": [
    "# Run test\n",
    "result = adfuller(data['price'])\n",
    "\n",
    "# Print test statistic\n",
    "print(result[0])\n",
    "\n",
    "# Print p-value\n",
    "print(result[1])\n",
    "\n",
    "# Print critical values\n",
    "print(result[4])\n",
    "\n",
    "# Print the test statistic and the p-value\n",
    "print('ADF Statistic:', result[0])\n",
    "print('p-value:', result[1])"
   ]
  },
  {
   "cell_type": "markdown",
   "metadata": {
    "ExecuteTime": {
     "end_time": "2021-07-08T11:38:47.567228Z",
     "start_time": "2021-07-08T11:38:47.535977Z"
    }
   },
   "source": [
    "Изводи: p-value е по-голямо от 0.05, което означава, че изследвания feature не е стационарен. Това може да се види и с просто око чрез графично представяне на даните, но е по-добре да го имаме и като доказатество с помощтта на статистиката и резултатите от p-value получени от augmented dicky-fuller test\n"
   ]
  },
  {
   "cell_type": "code",
   "execution_count": 9,
   "metadata": {
    "ExecuteTime": {
     "end_time": "2021-07-08T11:39:46.674864Z",
     "start_time": "2021-07-08T11:39:46.440482Z"
    },
    "execution": {
     "iopub.execute_input": "2021-07-11T10:16:21.253331Z",
     "iopub.status.busy": "2021-07-11T10:16:21.252866Z",
     "iopub.status.idle": "2021-07-11T10:16:21.493214Z",
     "shell.execute_reply": "2021-07-11T10:16:21.492371Z",
     "shell.execute_reply.started": "2021-07-11T10:16:21.253285Z"
    }
   },
   "outputs": [
    {
     "data": {
      "image/png": "[encoded data removed]",
      "text/plain": [
       "<Figure size 432x288 with 1 Axes>"
      ]
     },
     "metadata": {
      "needs_background": "light"
     },
     "output_type": "display_data"
    }
   ],
   "source": [
    "plt.plot(data['price'])\n",
    "plt.title(\"Цена на ETH\")\n",
    "plt.xlabel('Дни')\n",
    "plt.ylabel('$')\n",
    "\n",
    "plt.show()"
   ]
  },
  {
   "cell_type": "code",
   "execution_count": 10,
   "metadata": {
    "ExecuteTime": {
     "end_time": "2021-07-08T11:40:45.101144Z",
     "start_time": "2021-07-08T11:39:50.878697Z"
    },
    "execution": {
     "iopub.execute_input": "2021-07-11T10:16:21.494649Z",
     "iopub.status.busy": "2021-07-11T10:16:21.494355Z",
     "iopub.status.idle": "2021-07-11T10:16:48.297257Z",
     "shell.execute_reply": "2021-07-11T10:16:48.296203Z",
     "shell.execute_reply.started": "2021-07-11T10:16:21.494621Z"
    }
   },
   "outputs": [
    {
     "name": "stderr",
     "output_type": "stream",
     "text": [
      "/opt/conda/lib/python3.7/site-packages/statsmodels/base/model.py:568: ConvergenceWarning: Maximum Likelihood optimization failed to converge. Check mle_retvals\n",
      "  ConvergenceWarning)\n"
     ]
    },
    {
     "name": "stdout",
     "output_type": "stream",
     "text": [
      "2088    2240.189216\n",
      "2089    2229.907142\n",
      "2090    2195.177215\n",
      "2091    2111.383055\n",
      "2092    2074.344591\n",
      "2093    2044.699930\n",
      "2094    2003.316305\n",
      "2095    1972.224734\n",
      "2096    1934.547334\n",
      "2097    1895.315178\n",
      "Name: predicted_mean, dtype: float64\n"
     ]
    },
    {
     "data": {
      "image/png": "[encoded data removed]",
      "text/plain": [
       "<Figure size 432x288 with 1 Axes>"
      ]
     },
     "metadata": {
      "needs_background": "light"
     },
     "output_type": "display_data"
    }
   ],
   "source": [
    "# data = data[['date','coin_id','cmc_rank','market_cap','price']]\n",
    "\n",
    "model = SARIMAX(data['price'], order=(1, 0, 1), exog=data['volume_24h'])\n",
    "\n",
    "results = model.fit()\n",
    "\n",
    "# Generate predictions\n",
    "dynamic_forecast = results.get_prediction(start=-10, dynamic=True)\n",
    "\n",
    "# Extract prediction mean\n",
    "dynamic_mean_forecast = dynamic_forecast.predicted_mean\n",
    "\n",
    "# Get confidence intervals of predictions\n",
    "confidence_intervals = dynamic_forecast.conf_int()\n",
    "\n",
    "# Select lower and upper confidence limits\n",
    "lower_limits = confidence_intervals.loc[:,'lower price']\n",
    "upper_limits = confidence_intervals.loc[:,'upper price']\n",
    "\n",
    "# Print best estimate predictions\n",
    "print(dynamic_mean_forecast)\n",
    "\n",
    "# Plot the ETH data\n",
    "plt.plot(data.date, data.price, label='observed')\n",
    "\n",
    "# Plot your mean forecast\n",
    "plt.plot(dynamic_mean_forecast.index, dynamic_mean_forecast, color='r', label='forecast')\n",
    "\n",
    "# Shade the area between your confidence limits\n",
    "plt.fill_between(lower_limits.index, lower_limits, \n",
    "         upper_limits, color='pink')\n",
    "\n",
    "# Set labels, legends and show plot\n",
    "plt.xlabel('дати')\n",
    "plt.ylabel('$')\n",
    "plt.legend()\n",
    "plt.show()"
   ]
  },
  {
   "cell_type": "code",
   "execution_count": 11,
   "metadata": {
    "ExecuteTime": {
     "end_time": "2021-07-08T13:05:10.620805Z",
     "start_time": "2021-07-08T13:04:14.390196Z"
    },
    "execution": {
     "iopub.execute_input": "2021-07-11T10:16:48.299342Z",
     "iopub.status.busy": "2021-07-11T10:16:48.299047Z",
     "iopub.status.idle": "2021-07-11T10:17:13.354972Z",
     "shell.execute_reply": "2021-07-11T10:17:13.353924Z",
     "shell.execute_reply.started": "2021-07-11T10:16:48.299312Z"
    }
   },
   "outputs": [
    {
     "data": {
      "image/png": "[encoded data removed]",
      "text/plain": [
       "<Figure size 432x288 with 2 Axes>"
      ]
     },
     "metadata": {
      "needs_background": "light"
     },
     "output_type": "display_data"
    }
   ],
   "source": [
    "plt.plot(data.date, data.price, label='observed')\n",
    "plt.plot(dynamic_mean_forecast.index,\n",
    "         dynamic_mean_forecast, color='r', label='forecast')\n",
    "plt.fill_between(lower_limits.index, lower_limits, upper_limits, color='pink')\n",
    "\n",
    "axes = plt.axes([1, 1, 1, 1])\n",
    "axes.plot(dynamic_mean_forecast.index, dynamic_mean_forecast, c='green', lw=1, label=\"Zoomed curve\")\n",
    "axes.legend()\n",
    "plt.show()"
   ]
  },
  {
   "cell_type": "markdown",
   "metadata": {},
   "source": [
    "We take the forecast and if the first value is lower than the last value, we expect the price to rise, so the algorythm suggests to BUY once. If this repeats a couple of days, the algorythm will be buying every day.\n",
    "However, if the first value is higher than the last one, we expect the price to be be lower, so the algorythm suggests to SELL everything which was bought so far.\n",
    "In the beginning of the algorythm there should be \"bought = 0\". As it is still under construction."
   ]
  },
  {
   "cell_type": "code",
   "execution_count": 24,
   "metadata": {
    "execution": {
     "iopub.execute_input": "2021-07-11T10:45:24.613452Z",
     "iopub.status.busy": "2021-07-11T10:45:24.613106Z",
     "iopub.status.idle": "2021-07-11T10:45:24.622497Z",
     "shell.execute_reply": "2021-07-11T10:45:24.621379Z",
     "shell.execute_reply.started": "2021-07-11T10:45:24.613422Z"
    }
   },
   "outputs": [],
   "source": [
    "bought = 0\n",
    "\n",
    "if dynamic_mean_forecast.values[-1] > dynamic_mean_forecast.values[1]:\n",
    "    print(\"BUY_1\")\n",
    "    bought = 1\n",
    "elif dynamic_mean_forecast.values[-1] < dynamic_mean_forecast.values[1] and bought == 1:\n",
    "    print(\"SELL_All\")\n",
    "    bought = 0"
   ]
  }
 ],
 "metadata": {
  "hide_input": false,
  "kernelspec": {
   "display_name": "Python 3",
   "language": "python",
   "name": "python3"
  },
  "language_info": {
   "codemirror_mode": {
    "name": "ipython",
    "version": 3
   },
   "file_extension": ".py",
   "mimetype": "text/x-python",
   "name": "python",
   "nbconvert_exporter": "python",
   "pygments_lexer": "ipython3",
   "version": "3.7.6"
  },
  "latex_envs": {
   "LaTeX_envs_menu_present": true,
   "autoclose": false,
   "autocomplete": true,
   "bibliofile": "biblio.bib",
   "cite_by": "apalike",
   "current_citInitial": 1,
   "eqLabelWithNumbers": true,
   "eqNumInitial": 1,
   "hotkeys": {
    "equation": "Ctrl-E",
    "itemize": "Ctrl-I"
   },
   "labels_anchors": false,
   "latex_user_defs": false,
   "report_style_numbering": false,
   "user_envs_cfg": false
  },
  "nbTranslate": {
   "displayLangs": [
    "*"
   ],
   "hotkey": "alt-t",
   "langInMainMenu": true,
   "sourceLang": "en",
   "targetLang": "fr",
   "useGoogleTranslate": true
  },
  "toc": {
   "base_numbering": 1,
   "nav_menu": {},
   "number_sections": true,
   "sideBar": true,
   "skip_h1_title": false,
   "title_cell": "Table of Contents",
   "title_sidebar": "Contents",
   "toc_cell": false,
   "toc_position": {},
   "toc_section_display": true,
   "toc_window_display": false
  },
  "varInspector": {
   "cols": {
    "lenName": 16,
    "lenType": 16,
    "lenVar": 40
   },
   "kernels_config": {
    "python": {
     "delete_cmd_postfix": "",
     "delete_cmd_prefix": "del ",
     "library": "var_list.py",
     "varRefreshCmd": "print(var_dic_list())"
    },
    "r": {
     "delete_cmd_postfix": ") ",
     "delete_cmd_prefix": "rm(",
     "library": "var_list.r",
     "varRefreshCmd": "cat(var_dic_list()) "
    }
   },
   "types_to_exclude": [
    "module",
    "function",
    "builtin_function_or_method",
    "instance",
    "_Feature"
   ],
   "window_display": true
  }
 },
 "nbformat": 4,
 "nbformat_minor": 4
}
