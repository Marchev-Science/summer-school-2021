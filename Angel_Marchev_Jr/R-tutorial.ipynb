{
 "cells": [
  {
   "cell_type": "markdown",
   "metadata": {},
   "source": [
    "# Arithmetic & Logical Operators, R Data Types"
   ]
  },
  {
   "cell_type": "markdown",
   "metadata": {
    "cell_style": "center"
   },
   "source": [
    "## Variables"
   ]
  },
  {
   "cell_type": "markdown",
   "metadata": {
    "cell_style": "center"
   },
   "source": [
    "First way to declare a variable:  use the `<-`  \n",
    "`name_of_variable <- value`\n",
    "\n",
    "Second way to declare a variable:  use the `=`  \n",
    "`name_of_variable = value`"
   ]
  },
  {
   "cell_type": "code",
   "execution_count": null,
   "metadata": {
    "ExecuteTime": {
     "end_time": "2021-07-05T15:30:33.536111Z",
     "start_time": "2021-07-05T15:30:33.515Z"
    },
    "cell_style": "center"
   },
   "outputs": [],
   "source": [
    "# Declare variables of different types\n",
    "# Numeric\n",
    "x <- 28\n",
    "class(x)"
   ]
  },
  {
   "cell_type": "code",
   "execution_count": null,
   "metadata": {
    "ExecuteTime": {
     "end_time": "2021-07-05T15:30:33.586773Z",
     "start_time": "2021-07-05T15:30:33.567Z"
    },
    "cell_style": "center"
   },
   "outputs": [],
   "source": [
    "# String\n",
    "y <- \"R is Fantastic\"\n",
    "class(y)"
   ]
  },
  {
   "cell_type": "code",
   "execution_count": null,
   "metadata": {
    "ExecuteTime": {
     "end_time": "2021-07-05T15:30:33.639886Z",
     "start_time": "2021-07-05T15:30:33.617Z"
    },
    "cell_style": "center"
   },
   "outputs": [],
   "source": [
    "# Boolean\n",
    "z <- TRUE\n",
    "class(z)"
   ]
  },
  {
   "cell_type": "code",
   "execution_count": null,
   "metadata": {
    "ExecuteTime": {
     "end_time": "2021-07-05T15:30:33.688517Z",
     "start_time": "2021-07-05T15:30:33.667Z"
    },
    "cell_style": "center"
   },
   "outputs": [],
   "source": [
    "# Print variable x\n",
    "x <- 42\n",
    "x"
   ]
  },
  {
   "cell_type": "code",
   "execution_count": null,
   "metadata": {
    "ExecuteTime": {
     "end_time": "2021-07-05T15:30:33.737145Z",
     "start_time": "2021-07-05T15:30:33.717Z"
    },
    "cell_style": "center"
   },
   "outputs": [],
   "source": [
    "#Example:\n",
    "y  <- 10\n",
    "y"
   ]
  },
  {
   "cell_type": "code",
   "execution_count": null,
   "metadata": {
    "ExecuteTime": {
     "end_time": "2021-07-05T15:30:33.788783Z",
     "start_time": "2021-07-05T15:30:33.766Z"
    },
    "cell_style": "center"
   },
   "outputs": [],
   "source": [
    "#Example:\n",
    "# We call x and y and apply a subtraction\n",
    "x-y"
   ]
  },
  {
   "cell_type": "markdown",
   "metadata": {
    "cell_style": "center"
   },
   "source": [
    "## Vectors\n",
    "\n"
   ]
  },
  {
   "cell_type": "code",
   "execution_count": null,
   "metadata": {
    "ExecuteTime": {
     "end_time": "2021-07-05T15:30:33.985305Z",
     "start_time": "2021-07-05T15:30:33.962Z"
    },
    "cell_style": "center"
   },
   "outputs": [],
   "source": [
    "# Numerical\n",
    "vec_num <- c(1, 10, 49)\n",
    "vec_num"
   ]
  },
  {
   "cell_type": "code",
   "execution_count": null,
   "metadata": {
    "ExecuteTime": {
     "end_time": "2021-07-05T15:30:34.034937Z",
     "start_time": "2021-07-05T15:30:34.015Z"
    },
    "cell_style": "center"
   },
   "outputs": [],
   "source": [
    "# Character \n",
    "vec_chr <- c(\"a\", \"b\", \"c\")\n",
    "vec_chr"
   ]
  },
  {
   "cell_type": "code",
   "execution_count": null,
   "metadata": {
    "ExecuteTime": {
     "end_time": "2021-07-05T15:30:34.088579Z",
     "start_time": "2021-07-05T15:30:34.063Z"
    },
    "cell_style": "center"
   },
   "outputs": [],
   "source": [
    "# Boolean \n",
    "vec_bool <-  c(TRUE, FALSE, TRUE)\n",
    "vec_bool"
   ]
  },
  {
   "cell_type": "code",
   "execution_count": null,
   "metadata": {
    "ExecuteTime": {
     "end_time": "2021-07-05T15:30:34.141747Z",
     "start_time": "2021-07-05T15:30:34.119Z"
    },
    "cell_style": "center"
   },
   "outputs": [],
   "source": [
    "# Example:\n",
    "\n",
    "# Create the vectors\n",
    "vect_1 <- c(1, 3, 5)\n",
    "vect_2 <- c(2, 4, 6)\n",
    "# Take the sum of A_vector and B_vector\n",
    "sum_vect <- vect_1 + vect_2\n",
    "# Print out total_vector\n",
    "sum_vect"
   ]
  },
  {
   "cell_type": "code",
   "execution_count": null,
   "metadata": {
    "ExecuteTime": {
     "end_time": "2021-07-05T15:30:34.194864Z",
     "start_time": "2021-07-05T15:30:34.173Z"
    },
    "cell_style": "center"
   },
   "outputs": [],
   "source": [
    "# Slice the first five rows of the vector\n",
    "slice_vector <- c(10,9,8,7,6,5,4,3,2,1)\n",
    "pesho  <- slice_vector[2:5]\n",
    "pesho"
   ]
  },
  {
   "cell_type": "code",
   "execution_count": null,
   "metadata": {
    "ExecuteTime": {
     "end_time": "2021-07-05T15:30:34.243491Z",
     "start_time": "2021-07-05T15:30:34.224Z"
    },
    "cell_style": "center"
   },
   "outputs": [],
   "source": [
    "# Faster way to create adjacent values\n",
    "c(1:10)"
   ]
  },
  {
   "cell_type": "markdown",
   "metadata": {
    "cell_style": "center"
   },
   "source": [
    "## Arithmetic Operators\n",
    "\n"
   ]
  },
  {
   "cell_type": "code",
   "execution_count": null,
   "metadata": {
    "ExecuteTime": {
     "end_time": "2021-07-05T15:30:34.446531Z",
     "start_time": "2021-07-05T15:30:34.428Z"
    },
    "cell_style": "center"
   },
   "outputs": [],
   "source": [
    "# Addition\n",
    "3 + 4"
   ]
  },
  {
   "cell_type": "code",
   "execution_count": null,
   "metadata": {
    "ExecuteTime": {
     "end_time": "2021-07-05T15:30:34.498168Z",
     "start_time": "2021-07-05T15:30:34.479Z"
    },
    "cell_style": "center"
   },
   "outputs": [],
   "source": [
    "# Multiplication\n",
    "3*5"
   ]
  },
  {
   "cell_type": "code",
   "execution_count": null,
   "metadata": {
    "ExecuteTime": {
     "end_time": "2021-07-05T15:30:34.547800Z",
     "start_time": "2021-07-05T15:30:34.529Z"
    },
    "cell_style": "center"
   },
   "outputs": [],
   "source": [
    "# Division\n",
    "(5+5)/2"
   ]
  },
  {
   "cell_type": "code",
   "execution_count": null,
   "metadata": {
    "ExecuteTime": {
     "end_time": "2021-07-05T15:30:34.603448Z",
     "start_time": "2021-07-05T15:30:34.581Z"
    },
    "cell_style": "center"
   },
   "outputs": [],
   "source": [
    "# Exponentiation\n",
    "2^5\n",
    "2**5"
   ]
  },
  {
   "cell_type": "code",
   "execution_count": null,
   "metadata": {
    "ExecuteTime": {
     "end_time": "2021-07-05T15:30:34.653610Z",
     "start_time": "2021-07-05T15:30:34.635Z"
    },
    "cell_style": "center"
   },
   "outputs": [],
   "source": [
    "# Modulo\n",
    "28%%6"
   ]
  },
  {
   "cell_type": "markdown",
   "metadata": {
    "cell_style": "center"
   },
   "source": [
    "## Logical Operators\n"
   ]
  },
  {
   "cell_type": "code",
   "execution_count": null,
   "metadata": {
    "ExecuteTime": {
     "end_time": "2021-07-05T15:30:34.877693Z",
     "start_time": "2021-07-05T15:30:34.849Z"
    },
    "cell_style": "center"
   },
   "outputs": [],
   "source": [
    "# Create a vector from 1 to 10\n",
    "logical_vector <- c(1:10)\n",
    "logical_vector\n",
    "logical_vector>5"
   ]
  },
  {
   "cell_type": "code",
   "execution_count": null,
   "metadata": {
    "ExecuteTime": {
     "end_time": "2021-07-05T15:30:34.922312Z",
     "start_time": "2021-07-05T15:30:34.903Z"
    },
    "cell_style": "center"
   },
   "outputs": [],
   "source": [
    "# Print value strictly above 5\n",
    "logical_vector[(logical_vector>5)]"
   ]
  },
  {
   "cell_type": "code",
   "execution_count": null,
   "metadata": {
    "ExecuteTime": {
     "end_time": "2021-07-05T15:30:34.980995Z",
     "start_time": "2021-07-05T15:30:34.958Z"
    },
    "cell_style": "center"
   },
   "outputs": [],
   "source": [
    "# Print 5 and 6\n",
    "logical_vector <- c(1:10)\n",
    "logical_vector[(logical_vector>4) & (logical_vector<7)]"
   ]
  },
  {
   "cell_type": "markdown",
   "metadata": {},
   "source": [
    "# Data manipulation"
   ]
  },
  {
   "cell_type": "markdown",
   "metadata": {
    "cell_style": "center"
   },
   "source": [
    "## Create a Matrix in R"
   ]
  },
  {
   "cell_type": "markdown",
   "metadata": {
    "cell_style": "center"
   },
   "source": [
    "`matrix(data, nrow, ncol, byrow = FALSE)`\n",
    "\n",
    "`data`: The collection of elements that R will arrange into the rows and columns of the matrix  \n",
    "`nrow`: Number of rows  \n",
    "`ncol`: Number of columns  \n",
    "`byrow`: The rows are filled from the left to the right. We use `byrow = FALSE` (default values), if we want the matrix to be filled by the columns i.e. the values are filled top to bottom.  "
   ]
  },
  {
   "cell_type": "code",
   "execution_count": null,
   "metadata": {
    "ExecuteTime": {
     "end_time": "2021-07-05T15:30:35.527921Z",
     "start_time": "2021-07-05T15:30:35.501Z"
    },
    "cell_style": "center"
   },
   "outputs": [],
   "source": [
    "# Construct a matrix with 5 rows that contain the numbers 1 up to 10 and byrow =  TRUE \n",
    "matrix_a <-matrix(1:10, byrow = TRUE, nrow = 5)\n",
    "matrix_a"
   ]
  },
  {
   "cell_type": "code",
   "execution_count": null,
   "metadata": {
    "ExecuteTime": {
     "end_time": "2021-07-05T15:30:35.576551Z",
     "start_time": "2021-07-05T15:30:35.557Z"
    },
    "cell_style": "center"
   },
   "outputs": [],
   "source": [
    "# Print dimension of the matrix with dim()\n",
    "dim(matrix_a)"
   ]
  },
  {
   "cell_type": "code",
   "execution_count": null,
   "metadata": {
    "ExecuteTime": {
     "end_time": "2021-07-05T15:30:35.630696Z",
     "start_time": "2021-07-05T15:30:35.609Z"
    },
    "cell_style": "center"
   },
   "outputs": [],
   "source": [
    "# Construct a matrix with 5 rows that contain the numbers 1 up to 10 and byrow =  FALSE\n",
    "matrix_b <-matrix(1:10, byrow = FALSE, nrow = 5)\n",
    "matrix_b"
   ]
  },
  {
   "cell_type": "code",
   "execution_count": null,
   "metadata": {
    "ExecuteTime": {
     "end_time": "2021-07-05T15:30:35.679827Z",
     "start_time": "2021-07-05T15:30:35.660Z"
    },
    "cell_style": "center"
   },
   "outputs": [],
   "source": [
    "# Print dimension of the matrix with dim()\n",
    "dim(matrix_b)"
   ]
  },
  {
   "cell_type": "code",
   "execution_count": null,
   "metadata": {
    "ExecuteTime": {
     "end_time": "2021-07-05T15:30:35.733468Z",
     "start_time": "2021-07-05T15:30:35.711Z"
    },
    "cell_style": "center"
   },
   "outputs": [],
   "source": [
    "# You can also create a 4x3 matrix using ncol. R will create 3 columns and fill the row from top to bottom.\n",
    "matrix_c <-matrix(1:12, byrow = FALSE, ncol = 3)\n",
    "matrix_c"
   ]
  },
  {
   "cell_type": "code",
   "execution_count": null,
   "metadata": {
    "ExecuteTime": {
     "end_time": "2021-07-05T15:30:35.787612Z",
     "start_time": "2021-07-05T15:30:35.763Z"
    },
    "cell_style": "center"
   },
   "outputs": [],
   "source": [
    "dim(matrix_c)"
   ]
  },
  {
   "cell_type": "code",
   "execution_count": null,
   "metadata": {
    "ExecuteTime": {
     "end_time": "2021-07-05T15:30:35.835739Z",
     "start_time": "2021-07-05T15:30:35.814Z"
    },
    "cell_style": "center"
   },
   "outputs": [],
   "source": [
    "# Add a Column to a Matrix with the cbind()\n",
    "\n",
    "# concatenate c(1:5) to the matrix_a\n",
    "matrix_a1 <- cbind(c(1:5),matrix_a)\n",
    "# Check the dimension\n",
    "matrix_a1"
   ]
  },
  {
   "cell_type": "code",
   "execution_count": null,
   "metadata": {
    "ExecuteTime": {
     "end_time": "2021-07-05T15:30:35.882364Z",
     "start_time": "2021-07-05T15:30:35.864Z"
    },
    "cell_style": "center"
   },
   "outputs": [],
   "source": [
    "dim(matrix_a1)"
   ]
  },
  {
   "cell_type": "code",
   "execution_count": null,
   "metadata": {
    "ExecuteTime": {
     "end_time": "2021-07-05T15:30:35.940041Z",
     "start_time": "2021-07-05T15:30:35.915Z"
    },
    "cell_style": "center"
   },
   "outputs": [],
   "source": [
    "# Concatenate matrix\n",
    "matrix_a2 <-matrix(13:24, byrow = FALSE, ncol = 3)\n",
    "\n",
    "matrix_c <-matrix(1:12, byrow = FALSE, ncol = 3)\n",
    "matrix_d <- cbind(matrix_a2, matrix_c)\n",
    "matrix_d"
   ]
  },
  {
   "cell_type": "code",
   "execution_count": null,
   "metadata": {
    "ExecuteTime": {
     "end_time": "2021-07-05T15:30:35.986641Z",
     "start_time": "2021-07-05T15:30:35.967Z"
    },
    "cell_style": "center"
   },
   "outputs": [],
   "source": [
    "dim(matrix_d)"
   ]
  },
  {
   "cell_type": "code",
   "execution_count": null,
   "metadata": {
    "ExecuteTime": {
     "end_time": "2021-07-05T15:30:36.048305Z",
     "start_time": "2021-07-05T15:30:36.020Z"
    },
    "cell_style": "center"
   },
   "outputs": [],
   "source": [
    "# Append\n",
    "matrix_c <-matrix(1:12, byrow = FALSE, ncol = 3)\n",
    "# Create a vector of 3 columns\n",
    "add_row <- c(1:3)\n",
    "# Append to the matrix\n",
    "matrix_c <- rbind(matrix_c, add_row)\n",
    "matrix_c\n",
    "# Check the dimension\n",
    "dim(matrix_c)"
   ]
  },
  {
   "cell_type": "markdown",
   "metadata": {
    "ExecuteTime": {
     "end_time": "2021-07-05T02:29:31.730306Z",
     "start_time": "2021-07-05T02:29:31.716Z"
    },
    "cell_style": "center"
   },
   "source": [
    "Select elements one or many elements from a matrix in R programming by using the square brackets [ ].\n",
    "\n",
    "`matrix_c[1,2]` selects the element at the first row and second column.  \n",
    "`matrix_c[1:3,2:3]` results in a R slice matrix with the data on the rows 1, 2, 3 and columns 2, 3,  \n",
    "`matrix_c[,1]` selects all elements of the first column.  \n",
    "`matrix_c[1,]` selects all elements of the first row.  "
   ]
  },
  {
   "cell_type": "code",
   "execution_count": null,
   "metadata": {
    "ExecuteTime": {
     "end_time": "2021-07-05T15:30:36.270941Z",
     "start_time": "2021-07-05T15:30:36.250Z"
    }
   },
   "outputs": [],
   "source": [
    "matrix_c"
   ]
  },
  {
   "cell_type": "code",
   "execution_count": null,
   "metadata": {
    "ExecuteTime": {
     "end_time": "2021-07-05T15:30:36.320071Z",
     "start_time": "2021-07-05T15:30:36.300Z"
    },
    "cell_style": "center"
   },
   "outputs": [],
   "source": [
    "slice1 <- matrix_c[1,2]\n",
    "slice1"
   ]
  },
  {
   "cell_type": "code",
   "execution_count": null,
   "metadata": {
    "ExecuteTime": {
     "end_time": "2021-07-05T15:30:36.374216Z",
     "start_time": "2021-07-05T15:30:36.349Z"
    },
    "cell_style": "center"
   },
   "outputs": [],
   "source": [
    "slice2 <- matrix_c[1:3,2:3]\n",
    "slice2"
   ]
  },
  {
   "cell_type": "code",
   "execution_count": null,
   "metadata": {
    "ExecuteTime": {
     "end_time": "2021-07-05T15:30:36.418834Z",
     "start_time": "2021-07-05T15:30:36.398Z"
    },
    "cell_style": "center"
   },
   "outputs": [],
   "source": [
    "slice3 <- matrix_c[,1]\n",
    "slice3"
   ]
  },
  {
   "cell_type": "code",
   "execution_count": null,
   "metadata": {
    "ExecuteTime": {
     "end_time": "2021-07-05T15:30:36.467964Z",
     "start_time": "2021-07-05T15:30:36.448Z"
    },
    "cell_style": "center"
   },
   "outputs": [],
   "source": [
    "slice4 <- matrix_c[1,]\n",
    "slice4"
   ]
  },
  {
   "cell_type": "markdown",
   "metadata": {
    "ExecuteTime": {
     "end_time": "2021-07-05T02:20:03.555548Z",
     "start_time": "2021-07-05T02:20:03.536Z"
    },
    "cell_style": "center"
   },
   "source": [
    "## Factor in R"
   ]
  },
  {
   "cell_type": "markdown",
   "metadata": {
    "ExecuteTime": {
     "end_time": "2021-07-05T02:20:03.555548Z",
     "start_time": "2021-07-05T02:20:03.536Z"
    },
    "cell_style": "center"
   },
   "source": [
    "Factor in R is a categorical variable that stores both string and integer data values as levels.\n",
    "\n",
    "Syntax\n",
    "\n",
    "`factor(x = character(), levels, labels = levels, ordered = is.ordered(x))`  \n",
    "Arguments:  \n",
    "`x`: A vector of categorical data in R. Need to be a string or integer, not decimal.  \n",
    "`Levels`: A vector of possible values taken by x. This argument is optional. The default value is the unique list of items of the vector x.  \n",
    "`Labels`: Add a label to the x categorical data in R. For example, 1 can take the label `male` while 0, the label `female`.  \n",
    "`ordered`: Determine if the levels should be ordered in categorical data in R.  "
   ]
  },
  {
   "cell_type": "code",
   "execution_count": null,
   "metadata": {
    "ExecuteTime": {
     "end_time": "2021-07-05T15:30:36.895602Z",
     "start_time": "2021-07-05T15:30:36.875Z"
    },
    "cell_style": "center"
   },
   "outputs": [],
   "source": [
    "# Create gender vector\n",
    "gender_vector <- c(\"Male\", \"Female\", \"Female\", \"Male\", \"Male\")\n",
    "class(gender_vector)"
   ]
  },
  {
   "cell_type": "code",
   "execution_count": null,
   "metadata": {
    "ExecuteTime": {
     "end_time": "2021-07-05T15:30:36.947805Z",
     "start_time": "2021-07-05T15:30:36.927Z"
    },
    "cell_style": "center"
   },
   "outputs": [],
   "source": [
    "# Convert gender_vector to a factor\n",
    "factor_gender_vector <-factor(gender_vector)\n",
    "factor_gender_vector"
   ]
  },
  {
   "cell_type": "code",
   "execution_count": null,
   "metadata": {
    "ExecuteTime": {
     "end_time": "2021-07-05T15:30:36.995432Z",
     "start_time": "2021-07-05T15:30:36.977Z"
    },
    "cell_style": "center"
   },
   "outputs": [],
   "source": [
    "class(factor_gender_vector)"
   ]
  },
  {
   "cell_type": "code",
   "execution_count": null,
   "metadata": {
    "ExecuteTime": {
     "end_time": "2021-07-05T15:30:37.051080Z",
     "start_time": "2021-07-05T15:30:37.028Z"
    },
    "cell_style": "center"
   },
   "outputs": [],
   "source": [
    "# Nominal Categorical Variable\n",
    "# A categorical variable has several values but the order does not matter. \n",
    "\n",
    "# Create a color vector\n",
    "color_vector <- c('blue', 'red', 'green', 'white', 'black', 'yellow')\n",
    "# Convert the vector to factor\n",
    "factor_color <- factor(color_vector)\n",
    "factor_color"
   ]
  },
  {
   "cell_type": "code",
   "execution_count": null,
   "metadata": {
    "ExecuteTime": {
     "end_time": "2021-07-05T15:30:37.107729Z",
     "start_time": "2021-07-05T15:30:37.086Z"
    },
    "cell_style": "center"
   },
   "outputs": [],
   "source": [
    "# Create Ordinal categorical vector \n",
    "day_vector <- c('evening', 'morning', 'afternoon', 'midday', 'midnight', 'evening')\n",
    "# Convert `day_vector` to a factor with ordered level\n",
    "factor_day <- factor(day_vector, order = TRUE, levels =c('morning', 'midday', 'afternoon', 'evening', 'midnight'))\n",
    "# Levels: morning < midday < afternoon < evening < midnight\n",
    "# Print the new variable\n",
    "factor_day"
   ]
  },
  {
   "cell_type": "code",
   "execution_count": null,
   "metadata": {
    "ExecuteTime": {
     "end_time": "2021-07-05T15:30:37.164380Z",
     "start_time": "2021-07-05T15:30:37.138Z"
    },
    "cell_style": "center"
   },
   "outputs": [],
   "source": [
    "# Count the number of occurence of each level\n",
    "summary(factor_day)"
   ]
  },
  {
   "cell_type": "code",
   "execution_count": null,
   "metadata": {
    "ExecuteTime": {
     "end_time": "2021-07-05T15:30:37.214012Z",
     "start_time": "2021-07-05T15:30:37.191Z"
    },
    "cell_style": "center"
   },
   "outputs": [],
   "source": [
    "# Continuous Variables\n",
    "dataset <- mtcars\n",
    "class(dataset$mpg)\n",
    "dataset$mpg"
   ]
  },
  {
   "cell_type": "markdown",
   "metadata": {
    "ExecuteTime": {
     "end_time": "2021-07-05T06:45:26.468626Z",
     "start_time": "2021-07-05T06:45:26.451Z"
    },
    "cell_style": "center"
   },
   "source": [
    "## Create a Data Frame"
   ]
  },
  {
   "cell_type": "markdown",
   "metadata": {
    "ExecuteTime": {
     "end_time": "2021-07-05T06:45:26.468626Z",
     "start_time": "2021-07-05T06:45:26.451Z"
    },
    "cell_style": "center"
   },
   "source": [
    "`data.frame(df, stringsAsFactors = TRUE)`\n",
    "\n",
    "Arguments:\n",
    "\n",
    "`df`: It can be a matrix to convert as a data frame or a collection of variables to join  \n",
    "`stringsAsFactors`: Convert string to factor by default  \n",
    "We can create a dataframe in R for our first data set by combining four variables of same length.  "
   ]
  },
  {
   "cell_type": "code",
   "execution_count": null,
   "metadata": {
    "ExecuteTime": {
     "end_time": "2021-07-05T15:30:37.659196Z",
     "start_time": "2021-07-05T15:30:37.633Z"
    },
    "cell_style": "center"
   },
   "outputs": [],
   "source": [
    "# Create a, b, c, d variables\n",
    "a <- c(10,20,30,40)\n",
    "b <- c('book', 'pen', 'textbook', 'pencil_case')\n",
    "c <- c(TRUE,FALSE,TRUE,FALSE)\n",
    "d <- c(2.5, 8, 10, 7)\n",
    "# Join the variables to create a data frame\n",
    "df <- data.frame(a,b,c,d)\n",
    "df"
   ]
  },
  {
   "cell_type": "code",
   "execution_count": null,
   "metadata": {
    "ExecuteTime": {
     "end_time": "2021-07-05T15:30:37.708326Z",
     "start_time": "2021-07-05T15:30:37.686Z"
    },
    "cell_style": "center"
   },
   "outputs": [],
   "source": [
    "# Name the data frame\n",
    "names(df) <- c('ID', 'items', 'store', 'price')\n",
    "df"
   ]
  },
  {
   "cell_type": "code",
   "execution_count": null,
   "metadata": {
    "ExecuteTime": {
     "end_time": "2021-07-05T15:30:37.758961Z",
     "start_time": "2021-07-05T15:30:37.739Z"
    },
    "cell_style": "center"
   },
   "outputs": [],
   "source": [
    "# Print the structure\n",
    "str(df)"
   ]
  },
  {
   "cell_type": "code",
   "execution_count": null,
   "metadata": {
    "ExecuteTime": {
     "end_time": "2021-07-05T15:30:37.808593Z",
     "start_time": "2021-07-05T15:30:37.789Z"
    },
    "cell_style": "center"
   },
   "outputs": [],
   "source": [
    "# Slice Data Frame\n",
    "## Select row 1 in column 2\n",
    "df[1,2]"
   ]
  },
  {
   "cell_type": "code",
   "execution_count": null,
   "metadata": {
    "ExecuteTime": {
     "end_time": "2021-07-05T15:30:37.861733Z",
     "start_time": "2021-07-05T15:30:37.841Z"
    },
    "cell_style": "center"
   },
   "outputs": [],
   "source": [
    "## Select Rows 1 to 2\n",
    "df[1:2,]"
   ]
  },
  {
   "cell_type": "code",
   "execution_count": null,
   "metadata": {
    "ExecuteTime": {
     "end_time": "2021-07-05T15:30:37.910864Z",
     "start_time": "2021-07-05T15:30:37.892Z"
    },
    "cell_style": "center"
   },
   "outputs": [],
   "source": [
    "## Select Columns 1\n",
    "df[,1]"
   ]
  },
  {
   "cell_type": "code",
   "execution_count": null,
   "metadata": {
    "ExecuteTime": {
     "end_time": "2021-07-05T15:30:37.968518Z",
     "start_time": "2021-07-05T15:30:37.943Z"
    },
    "cell_style": "center"
   },
   "outputs": [],
   "source": [
    "## Select Rows 1 to 3 and columns 3 to 4\n",
    "df[1:3, 3:4]"
   ]
  },
  {
   "cell_type": "code",
   "execution_count": null,
   "metadata": {
    "ExecuteTime": {
     "end_time": "2021-07-05T15:30:38.016144Z",
     "start_time": "2021-07-05T15:30:37.994Z"
    },
    "cell_style": "center"
   },
   "outputs": [],
   "source": [
    "# Slice with columns name\n",
    "df[, c('ID', 'store')]"
   ]
  },
  {
   "cell_type": "code",
   "execution_count": null,
   "metadata": {
    "ExecuteTime": {
     "end_time": "2021-07-05T15:30:38.071792Z",
     "start_time": "2021-07-05T15:30:38.048Z"
    },
    "cell_style": "center"
   },
   "outputs": [],
   "source": [
    "#Append a Column to Data Frame\n",
    "\n",
    "# Create a new vector\n",
    "quantity <- c(10, 35, 40, 5)\n",
    "# Add `quantity` to the `df` data frame\n",
    "df$quantity <- quantity\n",
    "df"
   ]
  },
  {
   "cell_type": "code",
   "execution_count": null,
   "metadata": {
    "ExecuteTime": {
     "end_time": "2021-07-05T15:30:38.121955Z",
     "start_time": "2021-07-05T15:30:38.103Z"
    },
    "cell_style": "center"
   },
   "outputs": [],
   "source": [
    "# Select the column ID\n",
    "df$ID"
   ]
  },
  {
   "cell_type": "markdown",
   "metadata": {
    "ExecuteTime": {
     "end_time": "2021-07-05T07:04:43.142322Z",
     "start_time": "2021-07-05T07:04:43.122Z"
    }
   },
   "source": [
    "# Functions in R"
   ]
  },
  {
   "cell_type": "markdown",
   "metadata": {
    "ExecuteTime": {
     "end_time": "2021-07-05T06:45:26.468626Z",
     "start_time": "2021-07-05T06:45:26.451Z"
    },
    "cell_style": "center"
   },
   "source": [
    "## Syntax"
   ]
  },
  {
   "cell_type": "markdown",
   "metadata": {
    "ExecuteTime": {
     "end_time": "2021-07-05T06:45:26.468626Z",
     "start_time": "2021-07-05T06:45:26.451Z"
    },
    "cell_style": "center"
   },
   "source": [
    "`function (arglist)  {`  \n",
    "`  #Function body`  \n",
    "`}`  "
   ]
  },
  {
   "cell_type": "code",
   "execution_count": null,
   "metadata": {
    "ExecuteTime": {
     "end_time": "2021-07-05T15:30:38.822311Z",
     "start_time": "2021-07-05T15:30:38.801Z"
    },
    "cell_style": "center"
   },
   "outputs": [],
   "source": [
    "square_function<- function(n) \n",
    "{\n",
    "  # compute the square of integer `n`\n",
    "  n^2\n",
    "}  \n",
    "# calling the function and passing value 4\n",
    "square_function(4.32)"
   ]
  },
  {
   "cell_type": "markdown",
   "metadata": {},
   "source": [
    "## Some useful functions"
   ]
  },
  {
   "cell_type": "code",
   "execution_count": null,
   "metadata": {
    "ExecuteTime": {
     "end_time": "2021-07-05T15:30:39.105563Z",
     "start_time": "2021-07-05T15:30:39.072Z"
    },
    "cell_style": "center"
   },
   "outputs": [],
   "source": [
    "set.seed(0)\n",
    "## Create the data\n",
    "x = rnorm(1000)\n",
    "x"
   ]
  },
  {
   "cell_type": "code",
   "execution_count": null,
   "metadata": {
    "ExecuteTime": {
     "end_time": "2021-07-05T15:30:39.164720Z",
     "start_time": "2021-07-05T15:30:39.134Z"
    },
    "cell_style": "center"
   },
   "outputs": [],
   "source": [
    "ts <- cumsum(x)\n",
    "ts"
   ]
  },
  {
   "cell_type": "code",
   "execution_count": null,
   "metadata": {
    "ExecuteTime": {
     "end_time": "2021-07-05T15:30:39.204827Z",
     "start_time": "2021-07-05T15:30:39.186Z"
    },
    "cell_style": "center"
   },
   "outputs": [],
   "source": [
    "## Stationary the serie\n",
    "diff_ts <- diff(ts)\n",
    "par(mfrow=c(1,2))\n"
   ]
  },
  {
   "cell_type": "code",
   "execution_count": null,
   "metadata": {
    "ExecuteTime": {
     "end_time": "2021-07-05T15:30:39.385309Z",
     "start_time": "2021-07-05T15:30:39.242Z"
    },
    "cell_style": "center"
   },
   "outputs": [],
   "source": [
    "# Plot the series\n",
    "plot(ts, type='l')\n",
    "plot(diff(ts), type='l')\n",
    "dt <- cars"
   ]
  },
  {
   "cell_type": "code",
   "execution_count": null,
   "metadata": {
    "ExecuteTime": {
     "end_time": "2021-07-05T15:30:39.407868Z",
     "start_time": "2021-07-05T15:30:39.300Z"
    },
    "cell_style": "center"
   },
   "outputs": [],
   "source": [
    "## number columns\n",
    "length(dt)"
   ]
  },
  {
   "cell_type": "code",
   "execution_count": null,
   "metadata": {
    "ExecuteTime": {
     "end_time": "2021-07-05T15:30:39.429925Z",
     "start_time": "2021-07-05T15:30:39.351Z"
    },
    "cell_style": "center"
   },
   "outputs": [],
   "source": [
    "## number rows\n",
    "length(dt[,1])"
   ]
  },
  {
   "cell_type": "markdown",
   "metadata": {
    "ExecuteTime": {
     "end_time": "2021-07-05T06:45:26.468626Z",
     "start_time": "2021-07-05T06:45:26.451Z"
    },
    "cell_style": "center"
   },
   "source": [
    "## Math functions"
   ]
  },
  {
   "cell_type": "markdown",
   "metadata": {
    "ExecuteTime": {
     "end_time": "2021-07-05T06:45:26.468626Z",
     "start_time": "2021-07-05T06:45:26.451Z"
    },
    "cell_style": "center"
   },
   "source": [
    "`abs(x)` Takes the absolute value of `x`  \n",
    "`log(x,base=y)`\tTakes the logarithm of `x` with base `y` if base is not specified, returns the natural logarithm  \n",
    "`exp(x)` Returns the exponential of `x`  \n",
    "`sqrt(x)` Returns the square root of `x`  \n",
    "`factorial(x)` Returns the factorial of `x (x!)`  "
   ]
  },
  {
   "cell_type": "code",
   "execution_count": null,
   "metadata": {
    "ExecuteTime": {
     "end_time": "2021-07-05T15:30:39.868092Z",
     "start_time": "2021-07-05T15:30:39.848Z"
    },
    "cell_style": "center"
   },
   "outputs": [],
   "source": [
    "# sequence of number from 44 to 55 both including incremented by 1\n",
    "x_vector <- seq(45,55, by = 1)\n",
    "x_vector"
   ]
  },
  {
   "cell_type": "code",
   "execution_count": null,
   "metadata": {
    "ExecuteTime": {
     "end_time": "2021-07-05T15:30:39.920730Z",
     "start_time": "2021-07-05T15:30:39.902Z"
    },
    "cell_style": "center"
   },
   "outputs": [],
   "source": [
    "#logarithm\n",
    "log(x_vector)"
   ]
  },
  {
   "cell_type": "code",
   "execution_count": null,
   "metadata": {
    "ExecuteTime": {
     "end_time": "2021-07-05T15:30:39.972897Z",
     "start_time": "2021-07-05T15:30:39.952Z"
    },
    "cell_style": "center"
   },
   "outputs": [],
   "source": [
    "#exponential\n",
    "exp(x_vector)"
   ]
  },
  {
   "cell_type": "code",
   "execution_count": null,
   "metadata": {
    "ExecuteTime": {
     "end_time": "2021-07-05T15:30:40.030048Z",
     "start_time": "2021-07-05T15:30:40.004Z"
    },
    "cell_style": "center"
   },
   "outputs": [],
   "source": [
    "#squared root\n",
    "sqrt(x_vector)"
   ]
  },
  {
   "cell_type": "code",
   "execution_count": null,
   "metadata": {
    "ExecuteTime": {
     "end_time": "2021-07-05T15:30:40.079653Z",
     "start_time": "2021-07-05T15:30:40.060Z"
    },
    "cell_style": "center"
   },
   "outputs": [],
   "source": [
    "#factorial\n",
    "factorial(x_vector)"
   ]
  },
  {
   "cell_type": "markdown",
   "metadata": {},
   "source": [
    "## Statistical functions"
   ]
  },
  {
   "cell_type": "code",
   "execution_count": null,
   "metadata": {
    "ExecuteTime": {
     "end_time": "2021-07-05T15:30:40.376971Z",
     "start_time": "2021-07-05T15:30:40.357Z"
    },
    "cell_style": "center"
   },
   "outputs": [],
   "source": [
    "speed <- dt$speed\n",
    "speed"
   ]
  },
  {
   "cell_type": "code",
   "execution_count": null,
   "metadata": {
    "ExecuteTime": {
     "end_time": "2021-07-05T15:30:40.436658Z",
     "start_time": "2021-07-05T15:30:40.410Z"
    },
    "cell_style": "center"
   },
   "outputs": [],
   "source": [
    "# Mean speed of cars dataset\n",
    "mean(speed)"
   ]
  },
  {
   "cell_type": "code",
   "execution_count": null,
   "metadata": {
    "ExecuteTime": {
     "end_time": "2021-07-05T15:30:40.485788Z",
     "start_time": "2021-07-05T15:30:40.463Z"
    },
    "cell_style": "center"
   },
   "outputs": [],
   "source": [
    "# Median speed of cars dataset\n",
    "median(speed)"
   ]
  },
  {
   "cell_type": "code",
   "execution_count": null,
   "metadata": {
    "ExecuteTime": {
     "end_time": "2021-07-05T15:30:40.536951Z",
     "start_time": "2021-07-05T15:30:40.518Z"
    },
    "cell_style": "center"
   },
   "outputs": [],
   "source": [
    "# Variance speed of cars dataset\n",
    "var(speed)"
   ]
  },
  {
   "cell_type": "code",
   "execution_count": null,
   "metadata": {
    "ExecuteTime": {
     "end_time": "2021-07-05T15:30:40.587058Z",
     "start_time": "2021-07-05T15:30:40.568Z"
    },
    "cell_style": "center"
   },
   "outputs": [],
   "source": [
    "# Standard deviation speed of cars dataset\n",
    "sd(speed)"
   ]
  },
  {
   "cell_type": "code",
   "execution_count": null,
   "metadata": {
    "ExecuteTime": {
     "end_time": "2021-07-05T15:30:40.641203Z",
     "start_time": "2021-07-05T15:30:40.618Z"
    },
    "cell_style": "center"
   },
   "outputs": [],
   "source": [
    "# Standardize vector speed of cars dataset\n",
    "head(scale(speed), 5)"
   ]
  },
  {
   "cell_type": "code",
   "execution_count": null,
   "metadata": {
    "ExecuteTime": {
     "end_time": "2021-07-05T15:30:40.689330Z",
     "start_time": "2021-07-05T15:30:40.670Z"
    },
    "cell_style": "center"
   },
   "outputs": [],
   "source": [
    "# Quantile speed of cars dataset\n",
    "quantile(speed)"
   ]
  },
  {
   "cell_type": "code",
   "execution_count": null,
   "metadata": {
    "ExecuteTime": {
     "end_time": "2021-07-05T15:30:40.738963Z",
     "start_time": "2021-07-05T15:30:40.720Z"
    },
    "cell_style": "center"
   },
   "outputs": [],
   "source": [
    "# Summary speed of cars dataset\n",
    "summary(speed)"
   ]
  },
  {
   "cell_type": "markdown",
   "metadata": {
    "ExecuteTime": {
     "end_time": "2021-07-05T06:45:26.468626Z",
     "start_time": "2021-07-05T06:45:26.451Z"
    },
    "cell_style": "center"
   },
   "source": [
    "## The else if statement"
   ]
  },
  {
   "cell_type": "markdown",
   "metadata": {
    "ExecuteTime": {
     "end_time": "2021-07-05T06:45:26.468626Z",
     "start_time": "2021-07-05T06:45:26.451Z"
    },
    "cell_style": "center"
   },
   "source": [
    "We can further customize the control level with the else if statement. With `else if`, you can add as many conditions as we want. The syntax is:\n",
    "\n",
    "`if (condition1) {`  \n",
    "`    expr1`  \n",
    "`    } else if (condition2) {`  \n",
    "`    expr2`  \n",
    "`    } else if  (condition3) {`  \n",
    "`    expr3`  \n",
    "`    } else {`  \n",
    "`    expr4`  \n",
    "`}`  "
   ]
  },
  {
   "cell_type": "code",
   "execution_count": null,
   "metadata": {
    "ExecuteTime": {
     "end_time": "2021-07-05T15:30:41.346619Z",
     "start_time": "2021-07-05T15:30:41.320Z"
    },
    "cell_style": "center"
   },
   "outputs": [],
   "source": [
    "# Case:\n",
    "# Imagine we have three different kind of products with different VAT applied:\n",
    "# We can write a chain to apply the correct VAT rate to the product a customer bought.\n",
    "\n",
    "# Create a, b, c, d variables\n",
    "Categories <- c('A','B','C')\n",
    "Products <- c('Book, magazine, newspaper, etc..', 'Vegetable, meat, beverage, etc..', 'Tee-shirt, jean, pant, etc..')\n",
    "VAT <- c('8%','10%','20%')\n",
    "# Join the variables to create a data frame\n",
    "df <- data.frame(Categories,Products,VAT)\n",
    "df"
   ]
  },
  {
   "cell_type": "code",
   "execution_count": null,
   "metadata": {
    "ExecuteTime": {
     "end_time": "2021-07-05T15:30:41.402768Z",
     "start_time": "2021-07-05T15:30:41.383Z"
    },
    "cell_style": "center"
   },
   "outputs": [],
   "source": [
    "category <- 'A'\n",
    "price <- 10\n",
    "if (category =='A'){\n",
    "  cat('A VAT rate of 8% is applied.','The total price is',price *1.08)  \n",
    "} else if (category =='B'){\n",
    "    cat('A VAT rate of 10% is applied.','The total price is',price *1.10)  \n",
    "} else {\n",
    "    cat('A VAT rate of 20% is applied.','The total price is',price *1.20)  \n",
    "}"
   ]
  },
  {
   "cell_type": "markdown",
   "metadata": {
    "ExecuteTime": {
     "end_time": "2021-07-05T06:45:26.468626Z",
     "start_time": "2021-07-05T06:45:26.451Z"
    },
    "cell_style": "center"
   },
   "source": [
    "## For Loop Syntax"
   ]
  },
  {
   "cell_type": "markdown",
   "metadata": {
    "ExecuteTime": {
     "end_time": "2021-07-05T06:45:26.468626Z",
     "start_time": "2021-07-05T06:45:26.451Z"
    },
    "cell_style": "center"
   },
   "source": [
    "`For (i in vector) {`  \n",
    "`    Expression of i`\t\n",
    "`}`  \n",
    "\n",
    "R will loop over all the variables `in` `vector` and do the computation written inside the `exp`.  "
   ]
  },
  {
   "cell_type": "code",
   "execution_count": null,
   "metadata": {
    "ExecuteTime": {
     "end_time": "2021-07-05T15:30:41.969275Z",
     "start_time": "2021-07-05T15:30:41.942Z"
    },
    "cell_style": "center"
   },
   "outputs": [],
   "source": [
    "# Example: iterate over all the elements of a vector and print the current value.\n",
    "\n",
    "# Create fruit vector\n",
    "fruit <- c('Apple', 'Orange', 'Passion fruit', 'Banana')\n",
    "# Create the for statement\n",
    "for ( i in fruit){ \n",
    " print(i)\n",
    "}"
   ]
  },
  {
   "cell_type": "markdown",
   "metadata": {},
   "source": [
    "# Inputs & Outputs"
   ]
  },
  {
   "cell_type": "markdown",
   "metadata": {
    "ExecuteTime": {
     "end_time": "2021-07-05T06:45:26.468626Z",
     "start_time": "2021-07-05T06:45:26.451Z"
    },
    "cell_style": "center"
   },
   "source": [
    "## Read CSV"
   ]
  },
  {
   "cell_type": "markdown",
   "metadata": {
    "ExecuteTime": {
     "end_time": "2021-07-05T06:45:26.468626Z",
     "start_time": "2021-07-05T06:45:26.451Z"
    },
    "cell_style": "center"
   },
   "source": [
    "Comes with the internal library `utils`  \n",
    " \n",
    "`read.csv(file, header = TRUE, sep = \",\")`  \n",
    "\n",
    "Argument:\n",
    "\n",
    "`file`: PATH where the file is stored  \n",
    "`header`: confirm if the file has a header or not, by default, the header is set to `TRUE`  \n",
    "`sep`: the symbol used to split the variable. By default, `,`.  \n",
    "For windows user:  \n",
    "`\"C:\\Users\\USERNAME\\Downloads\\FILENAME.csv\"`  "
   ]
  },
  {
   "cell_type": "code",
   "execution_count": null,
   "metadata": {
    "ExecuteTime": {
     "end_time": "2021-07-05T15:30:43.129359Z",
     "start_time": "2021-07-05T15:30:42.753Z"
    },
    "cell_style": "center"
   },
   "outputs": [],
   "source": [
    "PATH <- 'https://raw.githubusercontent.com/guru99-edu/R-Programming/master/mtcars.csv'                \n",
    "df <- read.csv(PATH, header =  TRUE, sep = ',')\n",
    "df"
   ]
  },
  {
   "cell_type": "code",
   "execution_count": null,
   "metadata": {
    "ExecuteTime": {
     "end_time": "2021-07-05T15:30:43.151918Z",
     "start_time": "2021-07-05T15:30:42.816Z"
    },
    "cell_style": "center"
   },
   "outputs": [],
   "source": [
    "length(df)"
   ]
  },
  {
   "cell_type": "code",
   "execution_count": null,
   "metadata": {
    "ExecuteTime": {
     "end_time": "2021-07-05T15:30:43.174479Z",
     "start_time": "2021-07-05T15:30:42.866Z"
    },
    "cell_style": "center"
   },
   "outputs": [],
   "source": [
    "class(df$X)"
   ]
  },
  {
   "cell_type": "markdown",
   "metadata": {
    "ExecuteTime": {
     "end_time": "2021-07-05T06:45:26.468626Z",
     "start_time": "2021-07-05T06:45:26.451Z"
    },
    "cell_style": "center"
   },
   "source": [
    "## Read Excel files"
   ]
  },
  {
   "cell_type": "markdown",
   "metadata": {
    "ExecuteTime": {
     "end_time": "2021-07-05T06:45:26.468626Z",
     "start_time": "2021-07-05T06:45:26.451Z"
    },
    "cell_style": "center"
   },
   "source": [
    "Needs `readxl` library  \n",
    "\n",
    "The function `read_excel()` is of great use when it comes to opening xls and xlsx extention.  \n",
    "\n",
    "The syntax is:  \n",
    "`read_excel(PATH, sheet = NULL, range= NULL, col_names = TRUE)`  \n",
    "arguments:  \n",
    "`PATH`: Path where the excel is located  \n",
    "`sheet`: Select the sheet to import. By default, all  \n",
    "`range`: Select the range to import. By default, all non-null cells  \n",
    "`col_names`: Select the columns to import. By default, all non-null columns  "
   ]
  },
  {
   "cell_type": "code",
   "execution_count": null,
   "metadata": {
    "ExecuteTime": {
     "end_time": "2021-07-05T15:30:43.457230Z",
     "start_time": "2021-07-05T15:30:43.434Z"
    }
   },
   "outputs": [],
   "source": [
    "# Install and activate library `readxl`  \n",
    "require(readxl)\n",
    "library(readxl)\n",
    "# We can import the spreadsheets from the readxl library and count the number of columns in the first sheet.\n",
    "readxl_example()"
   ]
  },
  {
   "cell_type": "code",
   "execution_count": null,
   "metadata": {
    "ExecuteTime": {
     "end_time": "2021-07-05T15:30:43.584135Z",
     "start_time": "2021-07-05T15:30:43.495Z"
    },
    "cell_style": "center"
   },
   "outputs": [],
   "source": [
    "# Store the path of `datasets.xlsx`\n",
    "example <- readxl_example(\"datasets.xlsx\")\n",
    "# Import the spreadsheet\n",
    "df <- read_excel(example)\n",
    "df"
   ]
  },
  {
   "cell_type": "code",
   "execution_count": null,
   "metadata": {
    "ExecuteTime": {
     "end_time": "2021-07-05T15:30:43.608200Z",
     "start_time": "2021-07-05T15:30:43.559Z"
    },
    "cell_style": "center"
   },
   "outputs": [],
   "source": [
    "# Count the number of columns\n",
    "length(df)"
   ]
  },
  {
   "cell_type": "markdown",
   "metadata": {
    "ExecuteTime": {
     "end_time": "2021-07-05T08:40:20.536613Z",
     "start_time": "2021-07-05T08:40:20.520Z"
    },
    "cell_style": "center"
   },
   "source": [
    "## Export to file"
   ]
  },
  {
   "cell_type": "markdown",
   "metadata": {
    "ExecuteTime": {
     "end_time": "2021-07-05T08:40:20.536613Z",
     "start_time": "2021-07-05T08:40:20.520Z"
    },
    "cell_style": "center"
   },
   "source": [
    "`write.csv(df, path)`\n",
    "\n",
    "arguments\n",
    "`df`: Dataset to save. Need to be the same name of the data frame in the environment.\n",
    "`path`: A string. Set the destination path. Path + filename + extension or the filename + extension if the folder is the same as the working directory\n",
    "\n",
    "For Windows:\n",
    "`'C:\\Users\\USERNAME\\Documents\\'`"
   ]
  },
  {
   "cell_type": "code",
   "execution_count": null,
   "metadata": {
    "ExecuteTime": {
     "end_time": "2021-07-05T15:30:44.151798Z",
     "start_time": "2021-07-05T15:30:44.133Z"
    },
    "cell_style": "center"
   },
   "outputs": [],
   "source": [
    "# Example\n",
    "write.csv(df, \"table_VAT.csv\")"
   ]
  },
  {
   "cell_type": "markdown",
   "metadata": {
    "ExecuteTime": {
     "end_time": "2021-07-05T08:44:37.311711Z",
     "start_time": "2021-07-05T08:44:37.296Z"
    },
    "cell_style": "center"
   },
   "source": [
    "## Simple plots"
   ]
  },
  {
   "cell_type": "code",
   "execution_count": null,
   "metadata": {
    "ExecuteTime": {
     "end_time": "2021-07-05T15:30:47.540866Z",
     "start_time": "2021-07-05T15:30:44.449Z"
    },
    "cell_style": "center"
   },
   "outputs": [],
   "source": [
    "# read some data\n",
    "acs <- read.csv(url(\"http://stat511.cwick.co.nz/homeworks/acs_or.csv\"))\n",
    "acs"
   ]
  },
  {
   "cell_type": "code",
   "execution_count": null,
   "metadata": {
    "ExecuteTime": {
     "end_time": "2021-07-05T15:30:47.814092Z",
     "start_time": "2021-07-05T15:30:44.512Z"
    },
    "cell_style": "center"
   },
   "outputs": [],
   "source": [
    "# Scatter plot\n",
    "plot(x = acs$age_husband , y = acs$age_wife, type = 'p')"
   ]
  },
  {
   "cell_type": "code",
   "execution_count": null,
   "metadata": {
    "ExecuteTime": {
     "end_time": "2021-07-05T15:30:47.864254Z",
     "start_time": "2021-07-05T15:30:44.562Z"
    },
    "cell_style": "center"
   },
   "outputs": [],
   "source": [
    "# Histogram\n",
    "hist(acs$number_children)"
   ]
  },
  {
   "cell_type": "code",
   "execution_count": null,
   "metadata": {
    "ExecuteTime": {
     "end_time": "2021-07-05T15:30:47.914358Z",
     "start_time": "2021-07-05T15:30:44.613Z"
    },
    "cell_style": "center"
   },
   "outputs": [],
   "source": [
    "# Bar Plots\n",
    "counts <- table(acs$bedrooms)\n",
    "barplot(counts, main=\"Bedrooms Distribution\",  xlab=\"Number of Bedrooms\")"
   ]
  },
  {
   "cell_type": "markdown",
   "metadata": {},
   "source": [
    "## Export plot"
   ]
  },
  {
   "cell_type": "code",
   "execution_count": null,
   "metadata": {
    "ExecuteTime": {
     "end_time": "2021-07-05T15:30:47.953464Z",
     "start_time": "2021-07-05T15:30:44.922Z"
    }
   },
   "outputs": [],
   "source": [
    "png(file=\"saving_plot2.png\",width=600, height=600)\n",
    "counts <- table(acs$bedrooms)\n",
    "barplot(counts, main=\"Bedrooms Distribution\",  xlab=\"Number of Bedrooms\")\n",
    "dev.off()"
   ]
  },
  {
   "cell_type": "markdown",
   "metadata": {},
   "source": [
    "# Moving average example"
   ]
  },
  {
   "cell_type": "markdown",
   "metadata": {},
   "source": [
    "## Environment preparation"
   ]
  },
  {
   "cell_type": "code",
   "execution_count": null,
   "metadata": {
    "ExecuteTime": {
     "end_time": "2021-07-05T15:30:53.540160Z",
     "start_time": "2021-07-05T15:30:45.564Z"
    }
   },
   "outputs": [],
   "source": [
    "install.packages(\"readxl\", lib='C:/Users/Junior/Documents/R/win-library/3.6')\n",
    "install.packages(\"tseries\", lib='C:/Users/Junior/Documents/R/win-library/3.6')\n",
    "install.packages(\"forecast\", lib='C:/Users/Junior/Documents/R/win-library/3.6')\n",
    "install.packages(\"data.table\", lib='C:/Users/Junior/Documents/R/win-library/3.6')\n",
    "install.packages(\"TTR\", lib='C:/Users/Junior/Documents/R/win-library/3.6')\n",
    "\n",
    "library(readxl)\n",
    "library(forecast)\n",
    "library(tseries)\n",
    "library(data.table)\n",
    "library(TTR)"
   ]
  },
  {
   "cell_type": "code",
   "execution_count": null,
   "metadata": {
    "ExecuteTime": {
     "end_time": "2021-07-05T15:30:53.654465Z",
     "start_time": "2021-07-05T15:30:45.627Z"
    }
   },
   "outputs": [],
   "source": [
    "# Load the data\n",
    "data <- read_xlsx(\"01. Belgium.xlsx\", sheet =1, col_names = TRUE)\n",
    "# Data preparation\n",
    "colnames(data) <- c(\"GEO/TIME\", \"TimeT\", \"Y\", \"X1\", \"X2\", \"NOCOL\", \"CODE\", \"COUNTRY\", \"START\", \"END\",\"TOTOAL_ROWS\", \"TRAIN_ROWS\", \"TEST_ROWS\")\n",
    "data"
   ]
  },
  {
   "cell_type": "code",
   "execution_count": null,
   "metadata": {
    "ExecuteTime": {
     "end_time": "2021-07-05T15:30:53.716630Z",
     "start_time": "2021-07-05T15:30:45.690Z"
    }
   },
   "outputs": [],
   "source": [
    "total_rows <- as.numeric(data[1,11])\n",
    "train_rows <- as.numeric(data[1,12])\n",
    "test_rows <- as.numeric(data[1,13])\n",
    "workingNumber<-train_rows+1\n",
    "data <- data[ ,-1]\n",
    "data <- data[ , -c(5:12)]\n",
    "data"
   ]
  },
  {
   "cell_type": "markdown",
   "metadata": {},
   "source": [
    "## Modelling & Forecasting"
   ]
  },
  {
   "cell_type": "code",
   "execution_count": null,
   "metadata": {
    "ExecuteTime": {
     "end_time": "2021-07-05T15:30:53.796343Z",
     "start_time": "2021-07-05T15:30:46.027Z"
    }
   },
   "outputs": [],
   "source": [
    "i=1\n",
    "current_row=1\n",
    "working_Y <-rep(0, total_rows)\n",
    "working_Y <- as.data.frame(working_Y)\n",
    "working_SMA <- as.data.frame(shift(SMA(data[,2],n=3),1))\n",
    "for (i in 1:total_rows) {\n",
    "  if (current_row <= train_rows ) {\n",
    "    working_Y[i,1] <- data[i,2]\n",
    "  }else{ working_Y[i,1] <- working_SMA[i,1]}\n",
    "  \n",
    "  working_SMA <- as.data.frame(shift(SMA(working_Y[,1],n=3),1))\n",
    "  current_row = current_row + 1\n",
    "}\n",
    "\n",
    "forecast11 <- as.data.frame(shift(SMA(working_Y, 3),1))\n",
    "forecast11\n"
   ]
  },
  {
   "cell_type": "markdown",
   "metadata": {},
   "source": [
    "## Analysis"
   ]
  },
  {
   "cell_type": "code",
   "execution_count": null,
   "metadata": {
    "ExecuteTime": {
     "end_time": "2021-07-05T15:30:53.820405Z",
     "start_time": "2021-07-05T15:30:46.358Z"
    }
   },
   "outputs": [],
   "source": [
    "# Calculate mean relative error\n",
    "abs11yf <- abs(forecast11-data[,2])\n",
    "abs11y <- abs(data[,2])\n",
    "R11 <<- sum(abs11yf[4:train_rows,1])/sum(abs11y[4:train_rows,1])\n",
    "S11 <<- sum(abs11yf[(train_rows+1):total_rows,1])/sum(abs11y[(train_rows+1):total_rows,1])"
   ]
  },
  {
   "cell_type": "code",
   "execution_count": null,
   "metadata": {
    "ExecuteTime": {
     "end_time": "2021-07-05T15:30:53.879563Z",
     "start_time": "2021-07-05T15:30:46.411Z"
    }
   },
   "outputs": [],
   "source": [
    "plot.ts(data[,2], type=\"l\", col = \"blue\", main = \"Simple moving average (3 periods) : F(t)=(Y(t-1)+Y(t-2)+Y(t-3))/3\" )\n",
    "lines(forecast11, type=\"l\", col = \"red\")\n",
    "\n",
    "cat(\"\\n\",\"\\n\",\"Simple moving average (3 periods) : F(t)=(Y(t-1)+Y(t-2)+Y(t-3))/3:  \",\"\\n\", \"R =\", round(R11*100, digits = 2), \"%;\", \"  S =\", round(S11*100, digits = 2))"
   ]
  },
  {
   "cell_type": "code",
   "execution_count": null,
   "metadata": {},
   "outputs": [],
   "source": []
  }
 ],
 "metadata": {
  "hide_input": false,
  "kernelspec": {
   "display_name": "R",
   "language": "R",
   "name": "ir"
  },
  "language_info": {
   "codemirror_mode": "r",
   "file_extension": ".r",
   "mimetype": "text/x-r-source",
   "name": "R",
   "pygments_lexer": "r",
   "version": "3.6.1"
  },
  "latex_envs": {
   "LaTeX_envs_menu_present": true,
   "autoclose": false,
   "autocomplete": true,
   "bibliofile": "biblio.bib",
   "cite_by": "apalike",
   "current_citInitial": 1,
   "eqLabelWithNumbers": true,
   "eqNumInitial": 1,
   "hotkeys": {
    "equation": "Ctrl-E",
    "itemize": "Ctrl-I"
   },
   "labels_anchors": false,
   "latex_user_defs": false,
   "report_style_numbering": false,
   "user_envs_cfg": false
  },
  "nbTranslate": {
   "displayLangs": [
    "*"
   ],
   "hotkey": "alt-t",
   "langInMainMenu": true,
   "sourceLang": "en",
   "targetLang": "fr",
   "useGoogleTranslate": true
  },
  "toc": {
   "base_numbering": 1,
   "nav_menu": {},
   "number_sections": true,
   "sideBar": true,
   "skip_h1_title": false,
   "title_cell": "Table of Contents",
   "title_sidebar": "Contents",
   "toc_cell": false,
   "toc_position": {
    "height": "calc(100% - 180px)",
    "left": "10px",
    "top": "150px",
    "width": "301px"
   },
   "toc_section_display": true,
   "toc_window_display": true
  },
  "varInspector": {
   "cols": {
    "lenName": 16,
    "lenType": 16,
    "lenVar": 40
   },
   "kernels_config": {
    "python": {
     "delete_cmd_postfix": "",
     "delete_cmd_prefix": "del ",
     "library": "var_list.py",
     "varRefreshCmd": "print(var_dic_list())"
    },
    "r": {
     "delete_cmd_postfix": ") ",
     "delete_cmd_prefix": "rm(",
     "library": "var_list.r",
     "varRefreshCmd": "cat(var_dic_list()) "
    }
   },
   "oldHeight": 526.666666,
   "position": {
    "height": "40px",
    "left": "519.667px",
    "right": "20px",
    "top": "136px",
    "width": "478px"
   },
   "types_to_exclude": [
    "module",
    "function",
    "builtin_function_or_method",
    "instance",
    "_Feature"
   ],
   "varInspector_section_display": "none",
   "window_display": true
  }
 },
 "nbformat": 4,
 "nbformat_minor": 4
}
